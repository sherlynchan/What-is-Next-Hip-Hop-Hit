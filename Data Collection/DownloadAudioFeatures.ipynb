{
 "cells": [
  {
   "cell_type": "code",
   "execution_count": 66,
   "metadata": {},
   "outputs": [
    {
     "data": {
      "text/plain": [
       "'%.3f'"
      ]
     },
     "execution_count": 66,
     "metadata": {},
     "output_type": "execute_result"
    }
   ],
   "source": [
    "import pandas as pd\n",
    "import numpy as np\n",
    "import spotipy\n",
    "import os\n",
    "import sys\n",
    "import time\n",
    "import json\n",
    "import requests\n",
    "import matplotlib.pyplot as plt\n",
    "%matplotlib inline\n",
    "%precision 3"
   ]
  },
  {
   "cell_type": "code",
   "execution_count": 56,
   "metadata": {},
   "outputs": [],
   "source": [
    "sp = spotipy.Spotify(\n",
    "'BQAHu-EDfao11NpYnHMYHNsymwlF1_Vl6lQZOjKxYDdEGrZSgorhiWDg8T5H3QmBhz2XgKX9UU5QqbVG2rn9SO4Ys5ptW-5f9FfO5Wh22ZWpAEnQMhVFOOkHZxbjxKsrx_LxrUNuhTE-RWW6rvW7qI5VrDZKDV4pcZUrGPQnqaBEFIXhBsa08DluzFlJ'\n",
    "\n",
    ")"
   ]
  },
  {
   "cell_type": "code",
   "execution_count": 4,
   "metadata": {},
   "outputs": [],
   "source": [
    "tracks = pd.read_csv('tracks.csv')"
   ]
  },
  {
   "cell_type": "code",
   "execution_count": 22,
   "metadata": {},
   "outputs": [],
   "source": [
    "tracks['popularity'] = np.NaN\n",
    "tracks['acousticness'] = np.NaN\n",
    "tracks['danceability'] = np.NaN\n",
    "tracks['energy'] = np.NaN\n",
    "tracks['instrumentalness'] = np.NaN\n",
    "tracks['liveness'] = np.NaN\n",
    "tracks['loudness'] = np.NaN\n",
    "tracks['mode'] = np.NaN\n",
    "tracks['speechiness'] = np.NaN\n",
    "tracks['tempo'] = np.NaN\n",
    "tracks['valence'] = np.NaN"
   ]
  },
  {
   "cell_type": "code",
   "execution_count": 23,
   "metadata": {},
   "outputs": [],
   "source": [
    "features = ['acousticness','danceability','energy','instrumentalness',\n",
    "           'liveness','loudness','mode','speechiness','tempo','valence']"
   ]
  },
  {
   "cell_type": "code",
   "execution_count": 61,
   "metadata": {},
   "outputs": [
    {
     "name": "stdout",
     "output_type": "stream",
     "text": [
      "Progress 71.43\n",
      "Takes 73.8170440196991 seconds\n"
     ]
    }
   ],
   "source": [
    "track_ids = tracks.loc[tracks.popularity.isna()].id.tolist()\n",
    "total = len(tracks.loc[tracks.popularity.isna()].id.tolist())\n",
    "i = 0\n",
    "now = time.time()\n",
    "for track_id in track_ids:\n",
    "    i += 1\n",
    "    if i % 300 == 0:\n",
    "        print('Progress %4.2f' % (i / total * 100))\n",
    "        print('Takes {} seconds'.format(time.time() - now))\n",
    "    ad_features = sp.audio_features(tracks=[track_id])[0]\n",
    "    popularity = sp.track(track_id)['popularity']\n",
    "    tracks.loc[tracks.id == track_id,'popularity'] = popularity\n",
    "    if ad_features == None:\n",
    "        continue\n",
    "    for each in features:\n",
    "        tracks.loc[tracks.id == track_id,each] = ad_features[each]\n"
   ]
  },
  {
   "cell_type": "code",
   "execution_count": 62,
   "metadata": {},
   "outputs": [
    {
     "name": "stdout",
     "output_type": "stream",
     "text": [
      "There are 0 tracks without popularity data\n",
      "There are 75 tracks without audio feature data\n"
     ]
    }
   ],
   "source": [
    "print('There are {} tracks without popularity data'\\\n",
    "      .format(len(tracks.loc[tracks.popularity.isna()].id.tolist())))\n",
    "print('There are {} tracks without audio feature data'\\\n",
    "      .format(len(tracks.loc[tracks.loudness.isna()].id.tolist())))"
   ]
  },
  {
   "cell_type": "code",
   "execution_count": 71,
   "metadata": {},
   "outputs": [
    {
     "data": {
      "text/plain": [
       "Text(0,0.5,'Frequency')"
      ]
     },
     "execution_count": 71,
     "metadata": {},
     "output_type": "execute_result"
    },
    {
     "data": {
      "image/png": "[encoded data removed]",
      "text/plain": [
       "<Figure size 432x288 with 1 Axes>"
      ]
     },
     "metadata": {
      "needs_background": "light"
     },
     "output_type": "display_data"
    }
   ],
   "source": [
    "ax = tracks.popularity.value_counts().plot(kind = 'line')\n",
    "ax.set_xlabel('Popularity Score')\n",
    "ax.set_ylabel('Frequency')"
   ]
  },
  {
   "cell_type": "code",
   "execution_count": 63,
   "metadata": {},
   "outputs": [],
   "source": [
    "tracks.to_csv('tracks_with_audio_features.csv',index = False)"
   ]
  },
  {
   "cell_type": "code",
   "execution_count": 72,
   "metadata": {},
   "outputs": [
    {
     "data": {
      "text/plain": [
       "(69846, 21)"
      ]
     },
     "execution_count": 72,
     "metadata": {},
     "output_type": "execute_result"
    }
   ],
   "source": [
    "tracks.shape"
   ]
  }
 ],
 "metadata": {
  "kernelspec": {
   "display_name": "Python 3",
   "language": "python",
   "name": "python3"
  },
  "language_info": {
   "codemirror_mode": {
    "name": "ipython",
    "version": 3
   },
   "file_extension": ".py",
   "mimetype": "text/x-python",
   "name": "python",
   "nbconvert_exporter": "python",
   "pygments_lexer": "ipython3",
   "version": "3.6.5"
  }
 },
 "nbformat": 4,
 "nbformat_minor": 2
}

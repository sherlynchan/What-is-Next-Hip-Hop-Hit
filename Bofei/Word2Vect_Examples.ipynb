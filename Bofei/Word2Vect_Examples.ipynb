{
 "cells": [
  {
   "cell_type": "code",
   "execution_count": 17,
   "metadata": {},
   "outputs": [],
   "source": [
    "from lyrics_data import Lyrics\n",
    "from sklearn.feature_extraction.text import CountVectorizer\n",
    "from sklearn.feature_extraction.text import TfidfVectorizer\n",
    "import pandas as pd\n",
    "import numpy as np\n",
    "import time\n",
    "import os\n",
    "import sys"
   ]
  },
  {
   "cell_type": "code",
   "execution_count": 2,
   "metadata": {},
   "outputs": [],
   "source": [
    "ly = Lyrics()"
   ]
  },
  {
   "cell_type": "code",
   "execution_count": 3,
   "metadata": {},
   "outputs": [
    {
     "name": "stdout",
     "output_type": "stream",
     "text": [
      "(13229, 16)\n",
      "(7593, 16)\n"
     ]
    }
   ],
   "source": [
    "positive_class,negative_class = ly.getData()"
   ]
  },
  {
   "cell_type": "code",
   "execution_count": 6,
   "metadata": {},
   "outputs": [
    {
     "name": "stdout",
     "output_type": "stream",
     "text": [
      "1    2201\n",
      "0    2201\n",
      "Name: Label, dtype: int64\n"
     ]
    }
   ],
   "source": [
    "model_data = ly.getDataFilteredByRe(positive_class,negative_class)"
   ]
  },
  {
   "cell_type": "code",
   "execution_count": 12,
   "metadata": {},
   "outputs": [],
   "source": [
    "lyrics_data = model_data[['lyrics']]"
   ]
  },
  {
   "cell_type": "code",
   "execution_count": 13,
   "metadata": {},
   "outputs": [
    {
     "data": {
      "text/html": [
       "<div>\n",
       "<style scoped>\n",
       "    .dataframe tbody tr th:only-of-type {\n",
       "        vertical-align: middle;\n",
       "    }\n",
       "\n",
       "    .dataframe tbody tr th {\n",
       "        vertical-align: top;\n",
       "    }\n",
       "\n",
       "    .dataframe thead th {\n",
       "        text-align: right;\n",
       "    }\n",
       "</style>\n",
       "<table border=\"1\" class=\"dataframe\">\n",
       "  <thead>\n",
       "    <tr style=\"text-align: right;\">\n",
       "      <th></th>\n",
       "      <th>lyrics</th>\n",
       "    </tr>\n",
       "    <tr>\n",
       "      <th>Spotify_ID</th>\n",
       "      <th></th>\n",
       "    </tr>\n",
       "  </thead>\n",
       "  <tbody>\n",
       "    <tr>\n",
       "      <th>2xLMifQCjDGFmkHkpNLD9h</th>\n",
       "      <td>Astro,  Sun is down, freezin' cold That's...</td>\n",
       "    </tr>\n",
       "    <tr>\n",
       "      <th>0s3nnoMeVWz3989MkNQiRf</th>\n",
       "      <td>Enviyon on the mix No, no, no, no No-no, no...</td>\n",
       "    </tr>\n",
       "    <tr>\n",
       "      <th>7dt6x5M1jzdTEt8oCbisTK</th>\n",
       "      <td>You prolly think that you are better now, b...</td>\n",
       "    </tr>\n",
       "    <tr>\n",
       "      <th>7l3E7lcozEodtVsSTCkcaA</th>\n",
       "      <td>D.A. got that dope!   Ice water, turned Atl...</td>\n",
       "    </tr>\n",
       "    <tr>\n",
       "      <th>1BxkZE73h9BN3qwuA15TA3</th>\n",
       "      <td>Run that back, Turbo   You can get the bigg...</td>\n",
       "    </tr>\n",
       "  </tbody>\n",
       "</table>\n",
       "</div>"
      ],
      "text/plain": [
       "                                                                   lyrics\n",
       "Spotify_ID                                                               \n",
       "2xLMifQCjDGFmkHkpNLD9h       Astro,  Sun is down, freezin' cold That's...\n",
       "0s3nnoMeVWz3989MkNQiRf     Enviyon on the mix No, no, no, no No-no, no...\n",
       "7dt6x5M1jzdTEt8oCbisTK     You prolly think that you are better now, b...\n",
       "7l3E7lcozEodtVsSTCkcaA     D.A. got that dope!   Ice water, turned Atl...\n",
       "1BxkZE73h9BN3qwuA15TA3     Run that back, Turbo   You can get the bigg..."
      ]
     },
     "execution_count": 13,
     "metadata": {},
     "output_type": "execute_result"
    }
   ],
   "source": [
    "lyrics_data.head()"
   ]
  },
  {
   "cell_type": "code",
   "execution_count": 14,
   "metadata": {},
   "outputs": [],
   "source": [
    "countVect = CountVectorizer(stop_words='english')"
   ]
  },
  {
   "cell_type": "code",
   "execution_count": 15,
   "metadata": {},
   "outputs": [],
   "source": [
    "word_vect = countVect.fit_transform(lyrics_data.lyrics.tolist())"
   ]
  },
  {
   "cell_type": "code",
   "execution_count": 19,
   "metadata": {},
   "outputs": [],
   "source": [
    "word_vect = pd.DataFrame(word_vect.toarray(),columns=countVect.get_feature_names())"
   ]
  },
  {
   "cell_type": "code",
   "execution_count": 21,
   "metadata": {},
   "outputs": [],
   "source": [
    "word_vect.index = lyrics_data.index"
   ]
  },
  {
   "cell_type": "code",
   "execution_count": 24,
   "metadata": {},
   "outputs": [],
   "source": [
    "word_freq = word_vect.sum(axis = 0)"
   ]
  },
  {
   "cell_type": "code",
   "execution_count": 30,
   "metadata": {},
   "outputs": [],
   "source": [
    "# only top 10000\n",
    "word_freq.sort_values(ascending = False,inplace = True)"
   ]
  },
  {
   "cell_type": "code",
   "execution_count": 34,
   "metadata": {},
   "outputs": [],
   "source": [
    "from nltk.tokenize import sent_tokenize, word_tokenize \n",
    "import warnings \n",
    "  \n",
    "warnings.filterwarnings(action = 'ignore') \n",
    "  \n",
    "import gensim \n",
    "from gensim.models import Word2Vec "
   ]
  },
  {
   "cell_type": "code",
   "execution_count": 35,
   "metadata": {},
   "outputs": [],
   "source": [
    "lyrics = model_data.lyrics.tolist()"
   ]
  },
  {
   "cell_type": "code",
   "execution_count": 49,
   "metadata": {},
   "outputs": [],
   "source": [
    "word_count_filter = [',','``','!','\\'s',\"n't\"]"
   ]
  },
  {
   "cell_type": "code",
   "execution_count": 55,
   "metadata": {},
   "outputs": [],
   "source": [
    "data =[]\n",
    "for each in lyrics:\n",
    "    temp = []\n",
    "    each = sent_tokenize(each)\n",
    "    for sent in each:\n",
    "        words = word_tokenize(sent)\n",
    "        for word in words:\n",
    "            temp.append(word.lower())\n",
    "    data.append(temp)"
   ]
  },
  {
   "cell_type": "code",
   "execution_count": 56,
   "metadata": {},
   "outputs": [],
   "source": [
    "model1 = gensim.models.Word2Vec(data,\n",
    "                                min_count = 1,\n",
    "                               size = 100, \n",
    "                               window=5)"
   ]
  },
  {
   "cell_type": "code",
   "execution_count": 64,
   "metadata": {},
   "outputs": [
    {
     "data": {
      "text/plain": [
       "(49490082, 141075970)"
      ]
     },
     "execution_count": 64,
     "metadata": {},
     "output_type": "execute_result"
    }
   ],
   "source": [
    "model1.train(data,total_examples=len(data),\n",
    "            epochs=10)"
   ]
  },
  {
   "cell_type": "code",
   "execution_count": 66,
   "metadata": {},
   "outputs": [
    {
     "data": {
      "text/plain": [
       "[('baby', 0.5506221055984497),\n",
       " ('hate', 0.5432330965995789),\n",
       " ('babe', 0.49950385093688965),\n",
       " ('girl', 0.49013057351112366),\n",
       " ('oh', 0.4777616262435913),\n",
       " ('loving', 0.47418147325515747),\n",
       " ('lie', 0.4696138799190521),\n",
       " ('miss', 0.4656189978122711),\n",
       " ('know', 0.4611455500125885),\n",
       " ('streamlets', 0.4514901340007782)]"
      ]
     },
     "execution_count": 66,
     "metadata": {},
     "output_type": "execute_result"
    }
   ],
   "source": [
    "model1.wv.most_similar(positive='love')"
   ]
  }
 ],
 "metadata": {
  "kernelspec": {
   "display_name": "Python 3",
   "language": "python",
   "name": "python3"
  },
  "language_info": {
   "codemirror_mode": {
    "name": "ipython",
    "version": 3
   },
   "file_extension": ".py",
   "mimetype": "text/x-python",
   "name": "python",
   "nbconvert_exporter": "python",
   "pygments_lexer": "ipython3",
   "version": "3.5.6"
  }
 },
 "nbformat": 4,
 "nbformat_minor": 2
}

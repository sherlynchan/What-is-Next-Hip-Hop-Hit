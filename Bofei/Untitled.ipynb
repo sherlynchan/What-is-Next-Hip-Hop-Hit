{
 "cells": [
  {
   "cell_type": "code",
   "execution_count": 1,
   "metadata": {},
   "outputs": [],
   "source": [
    "from lyrics_data import Lyrics\n",
    "from sklearn.feature_extraction.text import CountVectorizer\n",
    "from sklearn.feature_extraction.text import TfidfVectorizer\n",
    "import pandas as pd\n",
    "import numpy as np\n",
    "import time\n",
    "import os\n",
    "import sys"
   ]
  },
  {
   "cell_type": "code",
   "execution_count": 2,
   "metadata": {},
   "outputs": [
    {
     "name": "stdout",
     "output_type": "stream",
     "text": [
      "(13229, 16)\n",
      "(7593, 16)\n",
      "1    2201\n",
      "0    2201\n",
      "Name: Label, dtype: int64\n",
      "Removing stop words of lyrics\n"
     ]
    }
   ],
   "source": [
    "ly = Lyrics()\n",
    "positive_class,negative_class = ly.getData()\n",
    "model_data = ly.getDataFilteredByRe(positive_class,negative_class)\n"
   ]
  },
  {
   "cell_type": "code",
   "execution_count": 5,
   "metadata": {},
   "outputs": [
    {
     "data": {
      "text/plain": [
       "0kCBorRrKZkSztd9m0QI3r    5\n",
       "4S8d14HvHb70ImctNgVzQQ    3\n",
       "5Cg98kiDYtCEHmjcKD0CJD    3\n",
       "0CBQ0m3mufWH75LTYB3s6h    3\n",
       "60SdxE8apGAxMiRrpbmLY0    3\n",
       "58q2HKrzhC3ozto2nDdN4z    3\n",
       "3Du2K5dLzmduCNp6uwuaL0    3\n",
       "7EZPH9Px3gXlxD5KJDwtwc    3\n",
       "3GVkPk8mqxz0itaAriG1L7    3\n",
       "1ZemPoaj7LBj1RAQrb89EC    3\n",
       "7p4vHnYXkxlzvfePJVpcTr    3\n",
       "3B54sVLJ402zGa6Xm4YGNe    3\n",
       "68lOQPb5tX8U2cQRuas0L2    3\n",
       "6gzIcEUuswJQGfJNPYMjjv    3\n",
       "0E8WJOFs2eWD67USh7C6Qd    3\n",
       "0KKkJNfGyhkQ5aFogxQAPU    3\n",
       "0QIjsbm2fh1cJ45XO9eGqq    3\n",
       "1BxkZE73h9BN3qwuA15TA3    3\n",
       "5UVNjOSh27encRBqTpBWup    3\n",
       "7lQWRAjyhTpCWFC0jmclT4    3\n",
       "3muBQDekYAg7jm6hDu6R0Z    3\n",
       "1zi7xx7UVEFkmKfv06H8x0    2\n",
       "6n4U3TlzUGhdSFbUUhTvLP    2\n",
       "47Bg6IrMed1GPbxRgwH2aC    2\n",
       "05pdoheuKPSotkjMgIVX6I    2\n",
       "0hy1SOTEn9ifXTzOwnCwEr    2\n",
       "21yRtB6B8EMounImAfHRCP    2\n",
       "4rv1ww0dUwFZcDVPqhcOcX    2\n",
       "3U4isOIWM3VvDubwSI3y7a    2\n",
       "6Vc5wAMmXdKIAM7WUoEb7N    2\n",
       "                         ..\n",
       "2cRgo1TiPm7SnPvYzvbOLf    1\n",
       "3XQY8kDjI8LARMIC9xkxQk    1\n",
       "5GG3knKdxKWrNboRijxeKF    1\n",
       "376KnY4TrgBITxjlnbnmIy    1\n",
       "7EVdrOI4f9lwSGk1E1wMd5    1\n",
       "6JjEVlMkfHWMeYavkEYzNO    1\n",
       "2gTYVoQCUh0QNUaFix01ld    1\n",
       "0TQ1FvC8TJ09iibSfwRP81    1\n",
       "3anp5nvmUKwMBEIEL1sPHR    1\n",
       "1vWay1E8xTO8HIob0Cs3SF    1\n",
       "5JUu0unA8VwhTZ9LkMWUVI    1\n",
       "5SehvGGC53A7SZKCLXQcyt    1\n",
       "2ZqTtndqAZDRAWw2vgZwQK    1\n",
       "7lT9KJpfzMTNi9702WuNI8    1\n",
       "40YcuQysJ0KlGQTeGUosTC    1\n",
       "6L5ViZKQnnhI11uc2opNPO    1\n",
       "167qhSKlLc9SEdLUKZhGiF    1\n",
       "4T5Z4mbTe7kuGqgLpaRtTh    1\n",
       "6NyhBA9M6KK0fuVsojxL00    1\n",
       "11iOB65szCoy6e5dscKrai    1\n",
       "0rFOs9paloAvEtzwDX1Kmc    1\n",
       "706Rv1laLeY1v8QNL6s8J2    1\n",
       "7KXjTSCq5nL1LoYtL7XAwS    1\n",
       "7m9OqQk4RVRkw9JJdeAw96    1\n",
       "6WlxcZKpEV6Bwe9InoVhMp    1\n",
       "6xtcFXSo8H9BZN637BMVKS    1\n",
       "7if86xj1PnYjOhegevL9xl    1\n",
       "5p7ujcrUXASCNwRaWNHR1C    1\n",
       "1wZqJM5FGDEl3FjHDxDyQd    1\n",
       "7sB2rmolvEt77KFPCraSNc    1\n",
       "Name: Spotify_ID, Length: 2035, dtype: int64"
      ]
     },
     "execution_count": 5,
     "metadata": {},
     "output_type": "execute_result"
    }
   ],
   "source": [
    "positive_class.Spotify_ID.value_counts()\n",
    "\n"
   ]
  }
 ],
 "metadata": {
  "kernelspec": {
   "display_name": "Python 3",
   "language": "python",
   "name": "python3"
  },
  "language_info": {
   "codemirror_mode": {
    "name": "ipython",
    "version": 3
   },
   "file_extension": ".py",
   "mimetype": "text/x-python",
   "name": "python",
   "nbconvert_exporter": "python",
   "pygments_lexer": "ipython3",
   "version": "3.5.6"
  }
 },
 "nbformat": 4,
 "nbformat_minor": 2
}

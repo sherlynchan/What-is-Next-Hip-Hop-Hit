{
 "cells": [
  {
   "cell_type": "code",
   "execution_count": 1,
   "metadata": {},
   "outputs": [],
   "source": [
    "from lyrics_data import Lyrics"
   ]
  },
  {
   "cell_type": "code",
   "execution_count": 2,
   "metadata": {},
   "outputs": [],
   "source": [
    "ly = Lyrics()"
   ]
  },
  {
   "cell_type": "code",
   "execution_count": 3,
   "metadata": {},
   "outputs": [
    {
     "name": "stdout",
     "output_type": "stream",
     "text": [
      "(13229, 16)\n",
      "(7593, 16)\n"
     ]
    }
   ],
   "source": [
    "positive_class,negative_class = ly.getData()"
   ]
  },
  {
   "cell_type": "code",
   "execution_count": 4,
   "metadata": {},
   "outputs": [
    {
     "name": "stdout",
     "output_type": "stream",
     "text": [
      "1    2201\n",
      "0    2201\n",
      "Name: Label, dtype: int64\n",
      "Removing stop words of lyrics\n"
     ]
    }
   ],
   "source": [
    "model_data = ly.getDataFilteredByRe(positive_class=positive_class,\n",
    "                                   negative_class = negative_class)"
   ]
  },
  {
   "cell_type": "code",
   "execution_count": 13,
   "metadata": {},
   "outputs": [],
   "source": [
    "model_data = model_data.sample(n= int(0.1 * model_data.shape[0]))"
   ]
  },
  {
   "cell_type": "code",
   "execution_count": 14,
   "metadata": {},
   "outputs": [],
   "source": [
    " \n",
    "from sklearn.model_selection import train_test_split\n",
    "X = model_data['lyrics']\n",
    "Y = model_data['Label']\n",
    "X_train, X_test, y_train, y_test = train_test_split(X,Y)"
   ]
  },
  {
   "cell_type": "code",
   "execution_count": 15,
   "metadata": {},
   "outputs": [
    {
     "name": "stdout",
     "output_type": "stream",
     "text": [
      "[nltk_data] Downloading package stopwords to\n",
      "[nltk_data]     /Users/bofeizhang/nltk_data...\n",
      "[nltk_data]   Package stopwords is already up-to-date!\n"
     ]
    }
   ],
   "source": [
    "import nltk\n",
    "from nltk.corpus import stopwords\n",
    "nltk.download('stopwords')\n",
    "from string import punctuation\n",
    "punctuation = \"\".join([symbol for symbol in punctuation if symbol not in [\"'\", '\"']])\n",
    "punctuation += '–'\n",
    "\n",
    "def clean_str(s):\n",
    "    return s.translate(str.maketrans('', '', punctuation)).replace('\\u200b', \" \").strip().lower()\n",
    "\n",
    "def tokenizeText(txt, remove_stop_words=True):\n",
    "    \"\"\"Splits a string of text into individual words\"\"\"\n",
    "    stop_words = set(stopwords.words('english')) if remove_stop_words else []\n",
    "    words = [w for w in clean_str(txt).split() if w not in stop_words]\n",
    "    words = ['N-Word' if w in ['nigga', 'niggas'] else w for w in words]\n",
    "    return words\n",
    "freq_dists, total_words = [], []\n",
    "token_lists = list(map(tokenizeText, model_data.lyrics))\n",
    "tokens = [word for song in token_lists for word in song]"
   ]
  },
  {
   "cell_type": "code",
   "execution_count": 16,
   "metadata": {},
   "outputs": [],
   "source": [
    "from collections import Counter\n",
    "vocab = Counter()\n",
    "vocab.update(tokens)\n",
    "vocab = set(vocab)"
   ]
  },
  {
   "cell_type": "code",
   "execution_count": 17,
   "metadata": {},
   "outputs": [],
   "source": [
    "from os import listdir\n",
    "from keras.preprocessing.text import Tokenizer\n",
    "from keras.preprocessing.sequence import pad_sequences\n",
    "from keras.models import Sequential\n",
    "from keras.layers import Dense\n",
    "from keras.layers import Flatten\n",
    "from keras.layers import Embedding\n",
    "from keras.layers.convolutional import Conv1D\n",
    "from keras.layers.convolutional import MaxPooling1D"
   ]
  },
  {
   "cell_type": "code",
   "execution_count": 18,
   "metadata": {},
   "outputs": [],
   "source": [
    "def clean_doc(doc, vocab):\n",
    "    # split into tokens by white space\n",
    "    tokens = doc.split()\n",
    "    # remove punctuation from each token\n",
    "    table = str.maketrans('', '', punctuation)\n",
    "    tokens = [w.translate(table) for w in tokens]\n",
    "    # filter out tokens not in vocab\n",
    "    tokens = [w for w in tokens if w in vocab]\n",
    "    tokens = ' '.join(tokens)\n",
    "    return tokens\n",
    "\n",
    "# load all docs in a directory\n",
    "def process_docs(doc, vocab):\n",
    "    documents = list()\n",
    "    # walk through all files in the folder\n",
    "    for i in range(len(doc)):\n",
    "        tokens = clean_doc(doc.iloc[i], vocab)\n",
    "        # add to list\n",
    "        documents.append(tokens)\n",
    "    return documents\n",
    "\n",
    "# load all training\n",
    "train_docs = process_docs(X_train, vocab)\n",
    "\n",
    "# create the tokenizer\n",
    "tokenizer = Tokenizer()\n",
    "# fit the tokenizer on the documents\n",
    "tokenizer.fit_on_texts(train_docs)\n",
    "\n",
    "# sequence encode\n",
    "encoded_docs = tokenizer.texts_to_sequences(train_docs)\n",
    "# pad sequences\n",
    "max_length = max([len(s.split()) for s in train_docs])\n",
    "Xtrain = pad_sequences(encoded_docs, maxlen=max_length, padding='post')\n",
    "\n",
    "# load all test\n",
    "test_docs = process_docs(X_test, vocab)\n",
    "# sequence encode\n",
    "encoded_docs = tokenizer.texts_to_sequences(test_docs)\n",
    "# pad sequences\n",
    "Xtest = pad_sequences(encoded_docs, maxlen=max_length, padding='post')\n",
    "\n",
    "# define vocabulary size (largest integer value)\n",
    "vocab_size = len(tokenizer.word_index) + 1"
   ]
  },
  {
   "cell_type": "code",
   "execution_count": 19,
   "metadata": {},
   "outputs": [
    {
     "name": "stdout",
     "output_type": "stream",
     "text": [
      "_________________________________________________________________\n",
      "Layer (type)                 Output Shape              Param #   \n",
      "=================================================================\n",
      "embedding_2 (Embedding)      (None, 43263, 100)        3782100   \n",
      "_________________________________________________________________\n",
      "conv1d_2 (Conv1D)            (None, 43256, 32)         25632     \n",
      "_________________________________________________________________\n",
      "max_pooling1d_2 (MaxPooling1 (None, 21628, 32)         0         \n",
      "_________________________________________________________________\n",
      "flatten_2 (Flatten)          (None, 692096)            0         \n",
      "_________________________________________________________________\n",
      "dense_3 (Dense)              (None, 10)                6920970   \n",
      "_________________________________________________________________\n",
      "dense_4 (Dense)              (None, 1)                 11        \n",
      "=================================================================\n",
      "Total params: 10,728,713\n",
      "Trainable params: 10,728,713\n",
      "Non-trainable params: 0\n",
      "_________________________________________________________________\n",
      "None\n",
      "Epoch 1/10\n",
      " - 35s - loss: 0.9843 - acc: 0.5545\n",
      "Epoch 2/10\n",
      " - 34s - loss: 0.5851 - acc: 0.6485\n",
      "Epoch 3/10\n",
      " - 34s - loss: 0.5267 - acc: 0.6545\n",
      "Epoch 4/10\n",
      " - 34s - loss: 0.4436 - acc: 0.6879\n",
      "Epoch 5/10\n",
      " - 33s - loss: 0.3425 - acc: 0.7212\n",
      "Epoch 6/10\n",
      " - 33s - loss: 0.2706 - acc: 0.7970\n",
      "Epoch 7/10\n",
      " - 34s - loss: 0.2232 - acc: 0.9242\n",
      "Epoch 8/10\n",
      " - 34s - loss: 0.1828 - acc: 0.9758\n",
      "Epoch 9/10\n",
      " - 35s - loss: 0.1512 - acc: 0.9758\n",
      "Epoch 10/10\n",
      " - 36s - loss: 0.0950 - acc: 0.9758\n",
      "Test Accuracy: 63.636363\n"
     ]
    }
   ],
   "source": [
    "# define model\n",
    "model = Sequential()\n",
    "model.add(Embedding(vocab_size, 100, input_length=max_length))\n",
    "model.add(Conv1D(filters=32, kernel_size=8, activation='relu'))\n",
    "model.add(MaxPooling1D(pool_size=2))\n",
    "model.add(Flatten())\n",
    "model.add(Dense(10, activation='relu'))\n",
    "model.add(Dense(1, activation='sigmoid'))\n",
    "print(model.summary())\n",
    "# compile network\n",
    "model.compile(loss='binary_crossentropy', optimizer='adam', metrics=['accuracy'])\n",
    "# fit network\n",
    "model.fit(Xtrain, y_train, epochs=10, verbose=2)\n",
    "# evaluate\n",
    "loss, acc = model.evaluate(Xtest, y_test, verbose=0)\n",
    "print('Test Accuracy: %f' % (acc*100))"
   ]
  }
 ],
 "metadata": {
  "kernelspec": {
   "display_name": "Python 3",
   "language": "python",
   "name": "python3"
  },
  "language_info": {
   "codemirror_mode": {
    "name": "ipython",
    "version": 3
   },
   "file_extension": ".py",
   "mimetype": "text/x-python",
   "name": "python",
   "nbconvert_exporter": "python",
   "pygments_lexer": "ipython3",
   "version": "3.6.5"
  }
 },
 "nbformat": 4,
 "nbformat_minor": 2
}
